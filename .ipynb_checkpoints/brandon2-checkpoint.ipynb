{
 "cells": [
  {
   "cell_type": "code",
   "execution_count": 1,
   "id": "34798621-188c-4d59-81fc-b3b3f2d39f79",
   "metadata": {},
   "outputs": [],
   "source": [
    "### IMPORTS AND READ CSV\n",
    "import pandas as pd\n",
    "import numpy as np\n",
    "from matplotlib import pyplot as plt\n",
    "\n",
    "# Initialise dataframe with headers\n",
    "col_names = [\"elevation\", \"aspect\", \"slope\", \"horizontaltohydro\", \"verticaltohydro\", \"horizontaltoroadway\", \"hillshade9am\", \"hillshadenoon\", \"hillshade3pm\", \"horizontaltofirepoints\", \"wildernessareaRawah\", \"wildernessareaNeota\", \"wildernessareaComanche\", \"wildernessareaCache\", \"soil1\", \"soi2\", \"soil3\", \"soil4\", \"soil5\", \"soil6\", \"soil7\", \"soil8\", \"soil9\", \"soil10\", \"soil11\", \"soil12\", \"soil13\", \"soil14\", \"soil15\", \"soil16\", \"soil17\", \"soil18\", \"soil19\", \"soil20\", \"soil21\", \"soil22\", \"soil23\", \"soil24\", \"soil25\", \"soil26\", \"soil27\", \"soil28\", \"soil29\", \"soil30\", \"soil31\", \"soil32\", \"soil33\", \"soil34\", \"soil35\", \"soil36\", \"soil37\", \"soil38\", \"soil39\", \"soil40\", \"target\"]\n",
    "cover_data = pd.read_csv('covtype.data', sep=',', names=col_names)\n",
    "# Output dataframe contains 8124 entries"
   ]
  },
  {
   "cell_type": "code",
   "execution_count": 2,
   "id": "6c77b5f1-20a0-437d-91ba-928c8030294e",
   "metadata": {},
   "outputs": [],
   "source": [
    "### DATA CLEANING\n",
    "# Remove rows with ANY null values\n",
    "X1 = cover_data.dropna()\n",
    "# Output dataframe contains 581012 entries"
   ]
  },
  {
   "cell_type": "code",
   "execution_count": 3,
   "id": "d8537ae8-8685-4df7-8d66-a65832a8c17d",
   "metadata": {},
   "outputs": [],
   "source": [
    "### Cleaned training and target data, ready to encode, split, and train\n",
    "\n",
    "# Training data without the target column (22 Categorical Attributes)\n",
    "X = X1.drop(columns=[\"target\"])\n",
    "\n",
    "# Initialise target column (Edible or Poisonous) in new dataframe\n",
    "Y = X1[\"target\"]"
   ]
  },
  {
   "cell_type": "code",
   "execution_count": 4,
   "id": "e01176ed-f285-4825-96a7-691a102302e3",
   "metadata": {},
   "outputs": [],
   "source": [
    "from sklearn.model_selection import train_test_split\n",
    "from sklearn.pipeline import make_pipeline\n",
    "from sklearn.preprocessing import StandardScaler\n",
    "from sklearn.metrics import accuracy_score\n",
    "from sklearn.model_selection import KFold\n",
    "from sklearn.linear_model import SGDClassifier"
   ]
  },
  {
   "cell_type": "code",
   "execution_count": 5,
   "id": "95e70940-fd21-4231-bfc0-80e337264d75",
   "metadata": {},
   "outputs": [],
   "source": [
    "# split data for no cross validation training\n",
    "X_train, X_test, Y_train, Y_test = train_test_split(X, Y, test_size=0.2)"
   ]
  },
  {
   "cell_type": "code",
   "execution_count": 8,
   "id": "5701cbcb-d2bb-4cae-8928-97312675b12d",
   "metadata": {},
   "outputs": [
    {
     "name": "stdout",
     "output_type": "stream",
     "text": [
      "CPU times: total: 10.2 s\n",
      "Wall time: 10.3 s\n"
     ]
    },
    {
     "data": {
      "text/html": [
       "<style>#sk-container-id-1 {color: black;background-color: white;}#sk-container-id-1 pre{padding: 0;}#sk-container-id-1 div.sk-toggleable {background-color: white;}#sk-container-id-1 label.sk-toggleable__label {cursor: pointer;display: block;width: 100%;margin-bottom: 0;padding: 0.3em;box-sizing: border-box;text-align: center;}#sk-container-id-1 label.sk-toggleable__label-arrow:before {content: \"▸\";float: left;margin-right: 0.25em;color: #696969;}#sk-container-id-1 label.sk-toggleable__label-arrow:hover:before {color: black;}#sk-container-id-1 div.sk-estimator:hover label.sk-toggleable__label-arrow:before {color: black;}#sk-container-id-1 div.sk-toggleable__content {max-height: 0;max-width: 0;overflow: hidden;text-align: left;background-color: #f0f8ff;}#sk-container-id-1 div.sk-toggleable__content pre {margin: 0.2em;color: black;border-radius: 0.25em;background-color: #f0f8ff;}#sk-container-id-1 input.sk-toggleable__control:checked~div.sk-toggleable__content {max-height: 200px;max-width: 100%;overflow: auto;}#sk-container-id-1 input.sk-toggleable__control:checked~label.sk-toggleable__label-arrow:before {content: \"▾\";}#sk-container-id-1 div.sk-estimator input.sk-toggleable__control:checked~label.sk-toggleable__label {background-color: #d4ebff;}#sk-container-id-1 div.sk-label input.sk-toggleable__control:checked~label.sk-toggleable__label {background-color: #d4ebff;}#sk-container-id-1 input.sk-hidden--visually {border: 0;clip: rect(1px 1px 1px 1px);clip: rect(1px, 1px, 1px, 1px);height: 1px;margin: -1px;overflow: hidden;padding: 0;position: absolute;width: 1px;}#sk-container-id-1 div.sk-estimator {font-family: monospace;background-color: #f0f8ff;border: 1px dotted black;border-radius: 0.25em;box-sizing: border-box;margin-bottom: 0.5em;}#sk-container-id-1 div.sk-estimator:hover {background-color: #d4ebff;}#sk-container-id-1 div.sk-parallel-item::after {content: \"\";width: 100%;border-bottom: 1px solid gray;flex-grow: 1;}#sk-container-id-1 div.sk-label:hover label.sk-toggleable__label {background-color: #d4ebff;}#sk-container-id-1 div.sk-serial::before {content: \"\";position: absolute;border-left: 1px solid gray;box-sizing: border-box;top: 0;bottom: 0;left: 50%;z-index: 0;}#sk-container-id-1 div.sk-serial {display: flex;flex-direction: column;align-items: center;background-color: white;padding-right: 0.2em;padding-left: 0.2em;position: relative;}#sk-container-id-1 div.sk-item {position: relative;z-index: 1;}#sk-container-id-1 div.sk-parallel {display: flex;align-items: stretch;justify-content: center;background-color: white;position: relative;}#sk-container-id-1 div.sk-item::before, #sk-container-id-1 div.sk-parallel-item::before {content: \"\";position: absolute;border-left: 1px solid gray;box-sizing: border-box;top: 0;bottom: 0;left: 50%;z-index: -1;}#sk-container-id-1 div.sk-parallel-item {display: flex;flex-direction: column;z-index: 1;position: relative;background-color: white;}#sk-container-id-1 div.sk-parallel-item:first-child::after {align-self: flex-end;width: 50%;}#sk-container-id-1 div.sk-parallel-item:last-child::after {align-self: flex-start;width: 50%;}#sk-container-id-1 div.sk-parallel-item:only-child::after {width: 0;}#sk-container-id-1 div.sk-dashed-wrapped {border: 1px dashed gray;margin: 0 0.4em 0.5em 0.4em;box-sizing: border-box;padding-bottom: 0.4em;background-color: white;}#sk-container-id-1 div.sk-label label {font-family: monospace;font-weight: bold;display: inline-block;line-height: 1.2em;}#sk-container-id-1 div.sk-label-container {text-align: center;}#sk-container-id-1 div.sk-container {/* jupyter's `normalize.less` sets `[hidden] { display: none; }` but bootstrap.min.css set `[hidden] { display: none !important; }` so we also need the `!important` here to be able to override the default hidden behavior on the sphinx rendered scikit-learn.org. See: https://github.com/scikit-learn/scikit-learn/issues/21755 */display: inline-block !important;position: relative;}#sk-container-id-1 div.sk-text-repr-fallback {display: none;}</style><div id=\"sk-container-id-1\" class=\"sk-top-container\"><div class=\"sk-text-repr-fallback\"><pre>Pipeline(steps=[(&#x27;standardscaler&#x27;, StandardScaler()),\n",
       "                (&#x27;sgdclassifier&#x27;, SGDClassifier())])</pre><b>In a Jupyter environment, please rerun this cell to show the HTML representation or trust the notebook. <br />On GitHub, the HTML representation is unable to render, please try loading this page with nbviewer.org.</b></div><div class=\"sk-container\" hidden><div class=\"sk-item sk-dashed-wrapped\"><div class=\"sk-label-container\"><div class=\"sk-label sk-toggleable\"><input class=\"sk-toggleable__control sk-hidden--visually\" id=\"sk-estimator-id-1\" type=\"checkbox\" ><label for=\"sk-estimator-id-1\" class=\"sk-toggleable__label sk-toggleable__label-arrow\">Pipeline</label><div class=\"sk-toggleable__content\"><pre>Pipeline(steps=[(&#x27;standardscaler&#x27;, StandardScaler()),\n",
       "                (&#x27;sgdclassifier&#x27;, SGDClassifier())])</pre></div></div></div><div class=\"sk-serial\"><div class=\"sk-item\"><div class=\"sk-estimator sk-toggleable\"><input class=\"sk-toggleable__control sk-hidden--visually\" id=\"sk-estimator-id-2\" type=\"checkbox\" ><label for=\"sk-estimator-id-2\" class=\"sk-toggleable__label sk-toggleable__label-arrow\">StandardScaler</label><div class=\"sk-toggleable__content\"><pre>StandardScaler()</pre></div></div></div><div class=\"sk-item\"><div class=\"sk-estimator sk-toggleable\"><input class=\"sk-toggleable__control sk-hidden--visually\" id=\"sk-estimator-id-3\" type=\"checkbox\" ><label for=\"sk-estimator-id-3\" class=\"sk-toggleable__label sk-toggleable__label-arrow\">SGDClassifier</label><div class=\"sk-toggleable__content\"><pre>SGDClassifier()</pre></div></div></div></div></div></div></div>"
      ],
      "text/plain": [
       "Pipeline(steps=[('standardscaler', StandardScaler()),\n",
       "                ('sgdclassifier', SGDClassifier())])"
      ]
     },
     "execution_count": 8,
     "metadata": {},
     "output_type": "execute_result"
    }
   ],
   "source": [
    "%%time\n",
    "# SGD Linear Support Vector Classifier - No Cross Validation -  max_iter = 1000\n",
    "clfSGD = make_pipeline(StandardScaler(), SGDClassifier(loss='hinge'))\n",
    "\n",
    "clfSGD.fit(X_train, Y_train)\n",
    "\n",
    "predict = clfSGD.predict(X_test)\n",
    "\n",
    "accuracy = accuracy_score(Y_test, predict)\n",
    "svc_NoCV_1k = accuracy\n",
    "svc_NoCV_1k"
   ]
  },
  {
   "cell_type": "code",
   "execution_count": 10,
   "id": "de30c66d-f9fb-405c-84a3-4c92040c9ec7",
   "metadata": {},
   "outputs": [
    {
     "name": "stdout",
     "output_type": "stream",
     "text": [
      "CPU times: total: 11.9 s\n",
      "Wall time: 10.7 s\n"
     ]
    },
    {
     "data": {
      "text/html": [
       "<style>#sk-container-id-2 {color: black;background-color: white;}#sk-container-id-2 pre{padding: 0;}#sk-container-id-2 div.sk-toggleable {background-color: white;}#sk-container-id-2 label.sk-toggleable__label {cursor: pointer;display: block;width: 100%;margin-bottom: 0;padding: 0.3em;box-sizing: border-box;text-align: center;}#sk-container-id-2 label.sk-toggleable__label-arrow:before {content: \"▸\";float: left;margin-right: 0.25em;color: #696969;}#sk-container-id-2 label.sk-toggleable__label-arrow:hover:before {color: black;}#sk-container-id-2 div.sk-estimator:hover label.sk-toggleable__label-arrow:before {color: black;}#sk-container-id-2 div.sk-toggleable__content {max-height: 0;max-width: 0;overflow: hidden;text-align: left;background-color: #f0f8ff;}#sk-container-id-2 div.sk-toggleable__content pre {margin: 0.2em;color: black;border-radius: 0.25em;background-color: #f0f8ff;}#sk-container-id-2 input.sk-toggleable__control:checked~div.sk-toggleable__content {max-height: 200px;max-width: 100%;overflow: auto;}#sk-container-id-2 input.sk-toggleable__control:checked~label.sk-toggleable__label-arrow:before {content: \"▾\";}#sk-container-id-2 div.sk-estimator input.sk-toggleable__control:checked~label.sk-toggleable__label {background-color: #d4ebff;}#sk-container-id-2 div.sk-label input.sk-toggleable__control:checked~label.sk-toggleable__label {background-color: #d4ebff;}#sk-container-id-2 input.sk-hidden--visually {border: 0;clip: rect(1px 1px 1px 1px);clip: rect(1px, 1px, 1px, 1px);height: 1px;margin: -1px;overflow: hidden;padding: 0;position: absolute;width: 1px;}#sk-container-id-2 div.sk-estimator {font-family: monospace;background-color: #f0f8ff;border: 1px dotted black;border-radius: 0.25em;box-sizing: border-box;margin-bottom: 0.5em;}#sk-container-id-2 div.sk-estimator:hover {background-color: #d4ebff;}#sk-container-id-2 div.sk-parallel-item::after {content: \"\";width: 100%;border-bottom: 1px solid gray;flex-grow: 1;}#sk-container-id-2 div.sk-label:hover label.sk-toggleable__label {background-color: #d4ebff;}#sk-container-id-2 div.sk-serial::before {content: \"\";position: absolute;border-left: 1px solid gray;box-sizing: border-box;top: 0;bottom: 0;left: 50%;z-index: 0;}#sk-container-id-2 div.sk-serial {display: flex;flex-direction: column;align-items: center;background-color: white;padding-right: 0.2em;padding-left: 0.2em;position: relative;}#sk-container-id-2 div.sk-item {position: relative;z-index: 1;}#sk-container-id-2 div.sk-parallel {display: flex;align-items: stretch;justify-content: center;background-color: white;position: relative;}#sk-container-id-2 div.sk-item::before, #sk-container-id-2 div.sk-parallel-item::before {content: \"\";position: absolute;border-left: 1px solid gray;box-sizing: border-box;top: 0;bottom: 0;left: 50%;z-index: -1;}#sk-container-id-2 div.sk-parallel-item {display: flex;flex-direction: column;z-index: 1;position: relative;background-color: white;}#sk-container-id-2 div.sk-parallel-item:first-child::after {align-self: flex-end;width: 50%;}#sk-container-id-2 div.sk-parallel-item:last-child::after {align-self: flex-start;width: 50%;}#sk-container-id-2 div.sk-parallel-item:only-child::after {width: 0;}#sk-container-id-2 div.sk-dashed-wrapped {border: 1px dashed gray;margin: 0 0.4em 0.5em 0.4em;box-sizing: border-box;padding-bottom: 0.4em;background-color: white;}#sk-container-id-2 div.sk-label label {font-family: monospace;font-weight: bold;display: inline-block;line-height: 1.2em;}#sk-container-id-2 div.sk-label-container {text-align: center;}#sk-container-id-2 div.sk-container {/* jupyter's `normalize.less` sets `[hidden] { display: none; }` but bootstrap.min.css set `[hidden] { display: none !important; }` so we also need the `!important` here to be able to override the default hidden behavior on the sphinx rendered scikit-learn.org. See: https://github.com/scikit-learn/scikit-learn/issues/21755 */display: inline-block !important;position: relative;}#sk-container-id-2 div.sk-text-repr-fallback {display: none;}</style><div id=\"sk-container-id-2\" class=\"sk-top-container\"><div class=\"sk-text-repr-fallback\"><pre>Pipeline(steps=[(&#x27;standardscaler&#x27;, StandardScaler()),\n",
       "                (&#x27;sgdclassifier&#x27;, SGDClassifier(loss=&#x27;log_loss&#x27;))])</pre><b>In a Jupyter environment, please rerun this cell to show the HTML representation or trust the notebook. <br />On GitHub, the HTML representation is unable to render, please try loading this page with nbviewer.org.</b></div><div class=\"sk-container\" hidden><div class=\"sk-item sk-dashed-wrapped\"><div class=\"sk-label-container\"><div class=\"sk-label sk-toggleable\"><input class=\"sk-toggleable__control sk-hidden--visually\" id=\"sk-estimator-id-4\" type=\"checkbox\" ><label for=\"sk-estimator-id-4\" class=\"sk-toggleable__label sk-toggleable__label-arrow\">Pipeline</label><div class=\"sk-toggleable__content\"><pre>Pipeline(steps=[(&#x27;standardscaler&#x27;, StandardScaler()),\n",
       "                (&#x27;sgdclassifier&#x27;, SGDClassifier(loss=&#x27;log_loss&#x27;))])</pre></div></div></div><div class=\"sk-serial\"><div class=\"sk-item\"><div class=\"sk-estimator sk-toggleable\"><input class=\"sk-toggleable__control sk-hidden--visually\" id=\"sk-estimator-id-5\" type=\"checkbox\" ><label for=\"sk-estimator-id-5\" class=\"sk-toggleable__label sk-toggleable__label-arrow\">StandardScaler</label><div class=\"sk-toggleable__content\"><pre>StandardScaler()</pre></div></div></div><div class=\"sk-item\"><div class=\"sk-estimator sk-toggleable\"><input class=\"sk-toggleable__control sk-hidden--visually\" id=\"sk-estimator-id-6\" type=\"checkbox\" ><label for=\"sk-estimator-id-6\" class=\"sk-toggleable__label sk-toggleable__label-arrow\">SGDClassifier</label><div class=\"sk-toggleable__content\"><pre>SGDClassifier(loss=&#x27;log_loss&#x27;)</pre></div></div></div></div></div></div></div>"
      ],
      "text/plain": [
       "Pipeline(steps=[('standardscaler', StandardScaler()),\n",
       "                ('sgdclassifier', SGDClassifier(loss='log_loss'))])"
      ]
     },
     "execution_count": 10,
     "metadata": {},
     "output_type": "execute_result"
    }
   ],
   "source": [
    "%%time\n",
    "# SGD Logistic Regression Classifier - No Cross Validation - max_iter = 1000\n",
    "clfSGDLR = make_pipeline(StandardScaler(), SGDClassifier(loss='log_loss'))\n",
    "clfSGDLR.fit(X_train, Y_train)\n",
    "\n",
    "predict = clfSGDLR.predict(X_test)\n",
    "\n",
    "accuracy = accuracy_score(Y_test, predict)\n",
    "lr_NoCV_1k = accuracy\n",
    "lr_NoCV_1k"
   ]
  },
  {
   "cell_type": "code",
   "execution_count": 12,
   "id": "a963a869-5ad7-45de-ab51-94d24402c64c",
   "metadata": {},
   "outputs": [
    {
     "name": "stdout",
     "output_type": "stream",
     "text": [
      "0.6724897593886613\n",
      "0.83689029637534\n",
      "0.720056453417325\n",
      "0.6858057520524604\n",
      "0.6048949243558631\n",
      "0.6430009810502401\n",
      "0.6772688938228257\n",
      "0.7232577752534379\n",
      "0.5634154317481627\n",
      "0.6042064680470216\n",
      "avg:0.6731286735511338\n",
      "CPU times: total: 2min 1s\n",
      "Wall time: 1min 48s\n"
     ]
    }
   ],
   "source": [
    "%%time\n",
    "### 10-fold Cross-validation loss hinge (linear SVC) - max_iter = 1000\n",
    "accuracy_array_10 = []\n",
    "k = 10\n",
    "kf = KFold(n_splits=k, random_state=None)\n",
    "for train_index, test_index in kf.split(X):\n",
    "    X_train, X_test = X.iloc[train_index,:], X.iloc[test_index,:]\n",
    "    Y_train, Y_test = Y[train_index], Y[test_index]\n",
    "    \n",
    "    clfSGD.fit(X_train, Y_train)\n",
    "    predict = clfSGD.predict(X_test)\n",
    "    \n",
    "    accuracy = accuracy_score(Y_test, predict)\n",
    "    print(accuracy)\n",
    "    accuracy_array_10.append(accuracy)\n",
    "\n",
    "average_accuracy_10 = sum(accuracy_array_10)/k\n",
    "svc_10fold_1k = average_accuracy_10\n",
    "print(\"avg:\" + str(svc_10fold_1k))\n"
   ]
  },
  {
   "cell_type": "code",
   "execution_count": 13,
   "id": "4d4b215d-3ee0-4ab7-82a6-573b98340729",
   "metadata": {},
   "outputs": [
    {
     "name": "stdout",
     "output_type": "stream",
     "text": [
      "0.741323373751108\n",
      "0.7024947720798946\n",
      "0.6068914476515034\n",
      "0.6782413383590644\n",
      "0.5904201304624705\n",
      "avg:0.6638742124608081\n",
      "CPU times: total: 56.4 s\n",
      "Wall time: 49.3 s\n"
     ]
    }
   ],
   "source": [
    "%%time\n",
    "### 5-fold Cross-validation loss hinge (linear SVC) - max iter = 1000\n",
    "accuracy_array_5 = []\n",
    "k = 5\n",
    "kf = KFold(n_splits=k, random_state=None)\n",
    "for train_index, test_index in kf.split(X):\n",
    "    X_train, X_test = X.iloc[train_index,:], X.iloc[test_index,:]\n",
    "    Y_train, Y_test = Y[train_index], Y[test_index]\n",
    "    \n",
    "    clfSGD.fit(X_train, Y_train)\n",
    "    predict = clfSGD.predict(X_test)\n",
    "    \n",
    "    accuracy = accuracy_score(Y_test, predict)\n",
    "    print(accuracy)\n",
    "    accuracy_array_5.append(accuracy)\n",
    "\n",
    "average_accuracy_5 = sum(accuracy_array_5)/k\n",
    "svc_5fold_1k = average_accuracy_5\n",
    "print(\"avg:\" + str(svc_5fold_1k))"
   ]
  },
  {
   "cell_type": "code",
   "execution_count": 14,
   "id": "59429570-4ec7-4c07-a1c5-63906319cabc",
   "metadata": {},
   "outputs": [
    {
     "name": "stdout",
     "output_type": "stream",
     "text": [
      "0.709321537984923\n",
      "0.831761385150253\n",
      "0.7233782551074852\n",
      "0.70305158258894\n",
      "0.5467375776664773\n",
      "0.6191976041720453\n",
      "0.7040842670522022\n",
      "0.7291612881017538\n",
      "0.5793876181132855\n",
      "0.6249117915354296\n",
      "avg:0.6770992907472795\n",
      "CPU times: total: 2min 10s\n",
      "Wall time: 1min 56s\n"
     ]
    }
   ],
   "source": [
    "%%time\n",
    "### 10-fold Cross-validation logistic regression - max iter = 1000\n",
    "accuracy_array_10 = []\n",
    "k = 10\n",
    "kf = KFold(n_splits=k, random_state=None)\n",
    "for train_index, test_index in kf.split(X):\n",
    "    X_train, X_test = X.iloc[train_index,:], X.iloc[test_index,:]\n",
    "    Y_train, Y_test = Y[train_index], Y[test_index]\n",
    "    \n",
    "    clfSGDLR.fit(X_train, Y_train)\n",
    "    predict = clfSGDLR.predict(X_test)\n",
    "    \n",
    "    accuracy = accuracy_score(Y_test, predict)\n",
    "    print(accuracy)\n",
    "    accuracy_array_10.append(accuracy)\n",
    "\n",
    "average_accuracy_10 = sum(accuracy_array_10)/k\n",
    "lr_10fold_1k = average_accuracy_10\n",
    "print(\"avg:\" + str(lr_10fold_1k))"
   ]
  },
  {
   "cell_type": "code",
   "execution_count": 15,
   "id": "ac0a637c-854b-462d-8c2a-a82acde6acc4",
   "metadata": {},
   "outputs": [
    {
     "name": "stdout",
     "output_type": "stream",
     "text": [
      "0.7722778241525606\n",
      "0.7058853902222835\n",
      "0.5573398048226365\n",
      "0.6887144799573157\n",
      "0.5902049878659575\n",
      "avg:0.6628844974041507\n",
      "CPU times: total: 59.6 s\n",
      "Wall time: 52.6 s\n"
     ]
    }
   ],
   "source": [
    "%%time\n",
    "### 5-fold Cross-validation logistic regression - max iter = 1000\n",
    "accuracy_array_5 = []\n",
    "k = 5\n",
    "kf = KFold(n_splits=k, random_state=None)\n",
    "for train_index, test_index in kf.split(X):\n",
    "    X_train, X_test = X.iloc[train_index,:], X.iloc[test_index,:]\n",
    "    Y_train, Y_test = Y[train_index], Y[test_index]\n",
    "    \n",
    "    clfSGDLR.fit(X_train, Y_train)\n",
    "    predict = clfSGDLR.predict(X_test)\n",
    "    \n",
    "    accuracy = accuracy_score(Y_test, predict)\n",
    "    print(accuracy)\n",
    "    accuracy_array_5.append(accuracy)\n",
    "\n",
    "average_accuracy_5 = sum(accuracy_array_5)/k\n",
    "lr_5fold_1k = average_accuracy_5\n",
    "print(\"avg:\" + str(lr_5fold_1k))"
   ]
  },
  {
   "cell_type": "code",
   "execution_count": null,
   "id": "1f42026e-4c60-4b4a-8094-202872b9fc17",
   "metadata": {},
   "outputs": [],
   "source": []
  },
  {
   "cell_type": "code",
   "execution_count": 16,
   "id": "bbfcb8fe-6576-4610-b536-5f61f5b2efae",
   "metadata": {},
   "outputs": [],
   "source": [
    "# SGD Linear Support Vector Classifier - No Cross Validation - max_iter = 500\n",
    "clfSGD500 = make_pipeline(StandardScaler(), SGDClassifier(loss='hinge',max_iter=500))"
   ]
  },
  {
   "cell_type": "code",
   "execution_count": 17,
   "id": "d75f0ef9-57a0-44f4-b4ca-65bc5880bf20",
   "metadata": {},
   "outputs": [],
   "source": [
    "# SGD Logistic Regression Classifier - No Cross Validation - max_iter = 500\n",
    "clfSGDLR500 = make_pipeline(StandardScaler(), SGDClassifier(loss='log_loss',max_iter=500))"
   ]
  },
  {
   "cell_type": "code",
   "execution_count": 18,
   "id": "f689daa7-6819-434f-888a-083ff553b05b",
   "metadata": {},
   "outputs": [
    {
     "name": "stdout",
     "output_type": "stream",
     "text": [
      "0.6750542150012048\n",
      "0.8348938074420846\n",
      "0.7184041582761054\n",
      "0.6825872188086264\n",
      "0.6054801122183784\n",
      "0.6362024750004303\n",
      "0.6679747336534655\n",
      "0.7032064852584293\n",
      "0.5859279530472797\n",
      "0.5995077537391783\n",
      "avg:0.6709238912445183\n",
      "CPU times: total: 2min 4s\n",
      "Wall time: 1min 51s\n"
     ]
    }
   ],
   "source": [
    "%%time\n",
    "### 10-fold Cross-validation loss hinge (linear SVC)\n",
    "accuracy_array_10 = []\n",
    "k = 10\n",
    "kf = KFold(n_splits=k, random_state=None)\n",
    "for train_index, test_index in kf.split(X):\n",
    "    X_train, X_test = X.iloc[train_index,:], X.iloc[test_index,:]\n",
    "    Y_train, Y_test = Y[train_index], Y[test_index]\n",
    "    \n",
    "    clfSGD500.fit(X_train, Y_train)\n",
    "    predict = clfSGD500.predict(X_test)\n",
    "    \n",
    "    accuracy = accuracy_score(Y_test, predict)\n",
    "    print(accuracy)\n",
    "    accuracy_array_10.append(accuracy)\n",
    "\n",
    "average_accuracy_10 = sum(accuracy_array_10)/k\n",
    "print(\"avg:\" + str(average_accuracy_10))"
   ]
  },
  {
   "cell_type": "code",
   "execution_count": 19,
   "id": "3d27c2e1-a5a7-4246-a61c-12e45fb3a3a7",
   "metadata": {},
   "outputs": [
    {
     "name": "stdout",
     "output_type": "stream",
     "text": [
      "0.7410824161166235\n",
      "0.7014793077631386\n",
      "0.5691382248154077\n",
      "0.6903323522830932\n",
      "0.5931481385862549\n",
      "avg:0.6590360879129035\n",
      "CPU times: total: 58.1 s\n",
      "Wall time: 51.1 s\n"
     ]
    }
   ],
   "source": [
    "%%time\n",
    "### 5-fold Cross-validation loss hinge (linear SVC)\n",
    "accuracy_array_5 = []\n",
    "k = 5\n",
    "kf = KFold(n_splits=k, random_state=None)\n",
    "for train_index, test_index in kf.split(X):\n",
    "    X_train, X_test = X.iloc[train_index,:], X.iloc[test_index,:]\n",
    "    Y_train, Y_test = Y[train_index], Y[test_index]\n",
    "    \n",
    "    clfSGD500.fit(X_train, Y_train)\n",
    "    predict = clfSGD500.predict(X_test)\n",
    "    \n",
    "    accuracy = accuracy_score(Y_test, predict)\n",
    "    print(accuracy)\n",
    "    accuracy_array_5.append(accuracy)\n",
    "\n",
    "average_accuracy_5 = sum(accuracy_array_5)/k\n",
    "print(\"avg:\" + str(average_accuracy_5))"
   ]
  },
  {
   "cell_type": "code",
   "execution_count": 20,
   "id": "75ec09a5-07a8-488b-aace-406f81cdf306",
   "metadata": {},
   "outputs": [
    {
     "name": "stdout",
     "output_type": "stream",
     "text": [
      "0.6771883928264087\n",
      "0.8295583628790747\n",
      "0.7193679971084835\n",
      "0.7025524517650299\n",
      "0.5373057262353488\n",
      "0.6233799762482574\n",
      "0.6866663224385122\n",
      "0.7323798213455879\n",
      "0.569077984888384\n",
      "0.6236209359563518\n",
      "avg:0.6701097971691439\n",
      "CPU times: total: 2min 8s\n",
      "Wall time: 1min 55s\n"
     ]
    }
   ],
   "source": [
    "%%time\n",
    "### 10-fold Cross-validation logistic regression\n",
    "accuracy_array_10 = []\n",
    "k = 10\n",
    "kf = KFold(n_splits=k, random_state=None)\n",
    "for train_index, test_index in kf.split(X):\n",
    "    X_train, X_test = X.iloc[train_index,:], X.iloc[test_index,:]\n",
    "    Y_train, Y_test = Y[train_index], Y[test_index]\n",
    "    \n",
    "    clfSGDLR500.fit(X_train, Y_train)\n",
    "    predict = clfSGDLR500.predict(X_test)\n",
    "    \n",
    "    accuracy = accuracy_score(Y_test, predict)\n",
    "    print(accuracy)\n",
    "    accuracy_array_10.append(accuracy)\n",
    "\n",
    "average_accuracy_10 = sum(accuracy_array_10)/k\n",
    "print(\"avg:\" + str(average_accuracy_10))"
   ]
  },
  {
   "cell_type": "code",
   "execution_count": 21,
   "id": "35e2d619-a094-4ce6-9ba6-bf84043fb259",
   "metadata": {},
   "outputs": [
    {
     "name": "stdout",
     "output_type": "stream",
     "text": [
      "0.7551009870657384\n",
      "0.7098697968210803\n",
      "0.5739746303850192\n",
      "0.6991015645169618\n",
      "0.5876663052271045\n",
      "avg:0.6651426568031809\n",
      "CPU times: total: 1min 1s\n",
      "Wall time: 54.2 s\n"
     ]
    }
   ],
   "source": [
    "%%time\n",
    "### 5-fold Cross-validation logistic regression\n",
    "accuracy_array_5 = []\n",
    "k = 5\n",
    "kf = KFold(n_splits=k, random_state=None)\n",
    "for train_index, test_index in kf.split(X):\n",
    "    X_train, X_test = X.iloc[train_index,:], X.iloc[test_index,:]\n",
    "    Y_train, Y_test = Y[train_index], Y[test_index]\n",
    "    \n",
    "    clfSGDLR500.fit(X_train, Y_train)\n",
    "    predict = clfSGDLR500.predict(X_test)\n",
    "    \n",
    "    accuracy = accuracy_score(Y_test, predict)\n",
    "    print(accuracy)\n",
    "    accuracy_array_5.append(accuracy)\n",
    "\n",
    "average_accuracy_5 = sum(accuracy_array_5)/k\n",
    "print(\"avg:\" + str(average_accuracy_5))"
   ]
  }
 ],
 "metadata": {
  "kernelspec": {
   "display_name": "Python 3 (ipykernel)",
   "language": "python",
   "name": "python3"
  },
  "language_info": {
   "codemirror_mode": {
    "name": "ipython",
    "version": 3
   },
   "file_extension": ".py",
   "mimetype": "text/x-python",
   "name": "python",
   "nbconvert_exporter": "python",
   "pygments_lexer": "ipython3",
   "version": "3.9.12"
  }
 },
 "nbformat": 4,
 "nbformat_minor": 5
}
