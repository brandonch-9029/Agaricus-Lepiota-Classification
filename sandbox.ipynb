{
 "cells": [
  {
   "cell_type": "code",
   "execution_count": 1,
   "id": "34798621-188c-4d59-81fc-b3b3f2d39f79",
   "metadata": {},
   "outputs": [],
   "source": [
    "import pandas as pd\n",
    "import numpy as np\n",
    "from matplotlib import pyplot as plt\n",
    "\n",
    "# Initialise dataframe with headers\n",
    "col_names = [\"type\", \"capshape\", \"capsurface\", \"capcolor\", \"bruises\", \"odor\", \"gillattachment\", \"gillspacing\", \"gillsize\", \"gillcolor\", \"stalkshape\", \"stalkroot\", \"stalksurfaceabovering\", \"stalksurfacebelowring\", \"stalkcolorabovering\", \"stalkcolorbelowring\", \"veiltype\", \"veilcolor\", \"ringnumber\", \"ringtype\", \"sporeprintcolor\", \"population\", \"habitat\"]\n",
    "mushroom_data = pd.read_csv('agaricus-lepiota.data', sep=',', names=col_names)\n",
    "# Output dataframe contains 8124 entries"
   ]
  },
  {
   "cell_type": "code",
   "execution_count": 2,
   "id": "6c77b5f1-20a0-437d-91ba-928c8030294e",
   "metadata": {},
   "outputs": [],
   "source": [
    "## DATA CLEANING\n",
    "# Remove rows with ANY null values\n",
    "X1 = mushroom_data.dropna()\n",
    "# doesn't actually do anything because all \"values\" are present in the dataset\n",
    "# Output dataframe contains 8124 entries\n",
    "\n",
    "# In Column 11 \"Stalk Root\", remove all rows with missing (\"?\") values\n",
    "X2 = X1[X1.stalkroot != \"?\"]\n",
    "# Output dataframe contains 5644 entries\n",
    "# So there were 2480 samples with no value for \"Stalk Root\"\n"
   ]
  },
  {
   "cell_type": "code",
   "execution_count": 7,
   "id": "413782c4-b237-46dc-968d-90085aa1f233",
   "metadata": {},
   "outputs": [
    {
     "data": {
      "text/plain": [
       "e    4208\n",
       "p    3916\n",
       "Name: type, dtype: int64"
      ]
     },
     "execution_count": 7,
     "metadata": {},
     "output_type": "execute_result"
    }
   ],
   "source": [
    "### Pie Chart of Count of Edible vs Poisonous BEFORE data cleaning\n",
    "## Edible: 4208 (51.8%)\n",
    "## Poisonous: 3916 (48.2%)\n",
    "## Total: 8124 instances\n",
    "mushroom_data.type.value_counts()"
   ]
  },
  {
   "cell_type": "code",
   "execution_count": 6,
   "id": "248ae493-21b2-4110-b147-54cfdda7ad21",
   "metadata": {},
   "outputs": [
    {
     "data": {
      "text/plain": [
       "e    3488\n",
       "p    2156\n",
       "Name: type, dtype: int64"
      ]
     },
     "execution_count": 6,
     "metadata": {},
     "output_type": "execute_result"
    }
   ],
   "source": [
    "### Pie Chart of Count of Edible vs Poisonous AFTER data cleaning\n",
    "## Edible: 4208 (51.8%)\n",
    "## Poisonous: 3916 (48.2%)\n",
    "## Total: 8124 instances\n",
    "X2.type.value_counts()"
   ]
  },
  {
   "cell_type": "code",
   "execution_count": 51,
   "id": "d8537ae8-8685-4df7-8d66-a65832a8c17d",
   "metadata": {},
   "outputs": [],
   "source": [
    "## Cleaned training and target data, ready to split and train\n",
    "\n",
    "# Training without the target column (22 Attributes)\n",
    "X = X2.drop(columns=[\"class\"])\n",
    "\n",
    "# Initialise target column (Edible or Poisonous) in new dataframe\n",
    "Y = X2[\"type\"]"
   ]
  },
  {
   "cell_type": "code",
   "execution_count": null,
   "id": "e2130147-70b4-4953-b054-7a8cb7fd5fcd",
   "metadata": {},
   "outputs": [],
   "source": []
  }
 ],
 "metadata": {
  "kernelspec": {
   "display_name": "Python 3 (ipykernel)",
   "language": "python",
   "name": "python3"
  },
  "language_info": {
   "codemirror_mode": {
    "name": "ipython",
    "version": 3
   },
   "file_extension": ".py",
   "mimetype": "text/x-python",
   "name": "python",
   "nbconvert_exporter": "python",
   "pygments_lexer": "ipython3",
   "version": "3.9.12"
  }
 },
 "nbformat": 4,
 "nbformat_minor": 5
}
