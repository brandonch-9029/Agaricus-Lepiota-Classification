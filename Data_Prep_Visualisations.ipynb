{
 "cells": [
  {
   "cell_type": "code",
   "execution_count": 67,
   "id": "34798621-188c-4d59-81fc-b3b3f2d39f79",
   "metadata": {},
   "outputs": [],
   "source": [
    "import pandas as pd\n",
    "import numpy as np\n",
    "from matplotlib import pyplot as plt\n",
    "\n",
    "# Initialise dataframe with headers\n",
    "col_names = [\"type\", \"capshape\", \"capsurface\", \"capcolor\", \"bruises\", \"odor\", \"gillattachment\", \"gillspacing\", \"gillsize\", \"gillcolor\", \"stalkshape\", \"stalkroot\", \"stalksurfaceabovering\", \"stalksurfacebelowring\", \"stalkcolorabovering\", \"stalkcolorbelowring\", \"veiltype\", \"veilcolor\", \"ringnumber\", \"ringtype\", \"sporeprintcolor\", \"population\", \"habitat\"]\n",
    "mushroom_data = pd.read_csv('agaricus-lepiota.data', sep=',', names=col_names)\n",
    "# Output dataframe contains 8124 entries"
   ]
  },
  {
   "cell_type": "code",
   "execution_count": 68,
   "id": "6c77b5f1-20a0-437d-91ba-928c8030294e",
   "metadata": {},
   "outputs": [],
   "source": [
    "## DATA CLEANING\n",
    "# Remove rows with ANY null values\n",
    "X1 = mushroom_data.dropna()\n",
    "# doesn't actually do anything because all \"values\" are present in the dataset\n",
    "# Output dataframe contains 8124 entries\n",
    "\n",
    "# In Column 11 \"Stalk Root\", remove all rows with missing (\"?\") values\n",
    "X2 = X1[X1.stalkroot != \"?\"]\n",
    "# Output dataframe contains 5644 entries\n",
    "# So there were 2480 samples with no value for \"Stalk Root\"\n"
   ]
  },
  {
   "cell_type": "code",
   "execution_count": 69,
   "id": "248ae493-21b2-4110-b147-54cfdda7ad21",
   "metadata": {},
   "outputs": [
    {
     "data": {
      "text/plain": [
       "<AxesSubplot:ylabel='type'>"
      ]
     },
     "execution_count": 69,
     "metadata": {},
     "output_type": "execute_result"
    },
    {
     "data": {
      "image/png": "[encoded data removed]",
      "text/plain": [
       "<Figure size 640x480 with 1 Axes>"
      ]
     },
     "metadata": {},
     "output_type": "display_data"
    }
   ],
   "source": [
    "X2.type.value_counts().plot(kind=\"pie\")"
   ]
  },
  {
   "cell_type": "code",
   "execution_count": 51,
   "id": "d8537ae8-8685-4df7-8d66-a65832a8c17d",
   "metadata": {},
   "outputs": [],
   "source": [
    "## Cleaned training and target data, ready to split and train\n",
    "\n",
    "# Training without the target column (22 Attributes)\n",
    "X = X2.drop(columns=[\"class\"])\n",
    "\n",
    "# Initialise target column (Edible or Poisonous) in new dataframe\n",
    "Y = X2[\"type\"]"
   ]
  },
  {
   "cell_type": "code",
   "execution_count": null,
   "id": "e2130147-70b4-4953-b054-7a8cb7fd5fcd",
   "metadata": {},
   "outputs": [],
   "source": []
  }
 ],
 "metadata": {
  "kernelspec": {
   "display_name": "Python 3 (ipykernel)",
   "language": "python",
   "name": "python3"
  },
  "language_info": {
   "codemirror_mode": {
    "name": "ipython",
    "version": 3
   },
   "file_extension": ".py",
   "mimetype": "text/x-python",
   "name": "python",
   "nbconvert_exporter": "python",
   "pygments_lexer": "ipython3",
   "version": "3.9.12"
  }
 },
 "nbformat": 4,
 "nbformat_minor": 5
}
